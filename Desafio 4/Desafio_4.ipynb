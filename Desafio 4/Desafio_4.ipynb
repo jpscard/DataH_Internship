{
  "nbformat": 4,
  "nbformat_minor": 0,
  "metadata": {
    "colab": {
      "provenance": []
    },
    "kernelspec": {
      "name": "python3",
      "display_name": "Python 3"
    },
    "language_info": {
      "name": "python"
    }
  },
  "cells": [
    {
      "cell_type": "markdown",
      "source": [
        "# **DataH Internship Program 2024-2025**"
      ],
      "metadata": {
        "id": "zK9FY28a0s6C"
      }
    },
    {
      "cell_type": "markdown",
      "source": [
        "# **Desafio 4** - **Em desenvolvimento**"
      ],
      "metadata": {
        "id": "TZ9H08rLp8_e"
      }
    },
    {
      "cell_type": "markdown",
      "source": [
        "# **Alunos:**\n",
        "## - João Paulo Cardoso.\n",
        "## - Leonardo Alves Pereira."
      ],
      "metadata": {
        "id": "xKQ9_0waxcDl"
      }
    },
    {
      "cell_type": "markdown",
      "source": [
        "## 1. Dados do dataset"
      ],
      "metadata": {
        "id": "9FhMkdDap8_k"
      }
    },
    {
      "cell_type": "markdown",
      "source": [
        "Dados obtidos da tarefa anterior, encontrado em: https://github.com/jpscard/DataH_Internship/tree/main/Desafio%204"
      ],
      "metadata": {
        "id": "NRZ-GH0Cti7E"
      }
    },
    {
      "cell_type": "markdown",
      "source": [
        "#### Observação sequencial de clusters"
      ],
      "metadata": {
        "id": "8YasERgZp8_k"
      }
    },
    {
      "cell_type": "code",
      "source": [
        "import pandas as pd\n",
        "import numpy as np\n",
        "\n",
        "# Carregar o dataset\n",
        "df = pd.read_csv('candlestick_clusters.csv')\n",
        "\n",
        "# definir o dataframe para análise\n",
        "observations = df[['Date', 'Cluster']]\n",
        "\n",
        "observations.head()"
      ],
      "metadata": {
        "colab": {
          "base_uri": "https://localhost:8080/",
          "height": 206
        },
        "outputId": "7d2c8357-7498-484e-b103-9fcb08af7b18",
        "id": "dkgyrj8Op8_k"
      },
      "execution_count": 4,
      "outputs": [
        {
          "output_type": "execute_result",
          "data": {
            "text/plain": [
              "         Date  Cluster\n",
              "0  2002-05-24        0\n",
              "1  2002-05-28        0\n",
              "2  2002-05-29        0\n",
              "3  2002-05-30        0\n",
              "4  2002-05-31        0"
            ],
            "text/html": [
              "\n",
              "  <div id=\"df-90ccb699-200a-47e9-a320-0fe687bab570\" class=\"colab-df-container\">\n",
              "    <div>\n",
              "<style scoped>\n",
              "    .dataframe tbody tr th:only-of-type {\n",
              "        vertical-align: middle;\n",
              "    }\n",
              "\n",
              "    .dataframe tbody tr th {\n",
              "        vertical-align: top;\n",
              "    }\n",
              "\n",
              "    .dataframe thead th {\n",
              "        text-align: right;\n",
              "    }\n",
              "</style>\n",
              "<table border=\"1\" class=\"dataframe\">\n",
              "  <thead>\n",
              "    <tr style=\"text-align: right;\">\n",
              "      <th></th>\n",
              "      <th>Date</th>\n",
              "      <th>Cluster</th>\n",
              "    </tr>\n",
              "  </thead>\n",
              "  <tbody>\n",
              "    <tr>\n",
              "      <th>0</th>\n",
              "      <td>2002-05-24</td>\n",
              "      <td>0</td>\n",
              "    </tr>\n",
              "    <tr>\n",
              "      <th>1</th>\n",
              "      <td>2002-05-28</td>\n",
              "      <td>0</td>\n",
              "    </tr>\n",
              "    <tr>\n",
              "      <th>2</th>\n",
              "      <td>2002-05-29</td>\n",
              "      <td>0</td>\n",
              "    </tr>\n",
              "    <tr>\n",
              "      <th>3</th>\n",
              "      <td>2002-05-30</td>\n",
              "      <td>0</td>\n",
              "    </tr>\n",
              "    <tr>\n",
              "      <th>4</th>\n",
              "      <td>2002-05-31</td>\n",
              "      <td>0</td>\n",
              "    </tr>\n",
              "  </tbody>\n",
              "</table>\n",
              "</div>\n",
              "    <div class=\"colab-df-buttons\">\n",
              "\n",
              "  <div class=\"colab-df-container\">\n",
              "    <button class=\"colab-df-convert\" onclick=\"convertToInteractive('df-90ccb699-200a-47e9-a320-0fe687bab570')\"\n",
              "            title=\"Convert this dataframe to an interactive table.\"\n",
              "            style=\"display:none;\">\n",
              "\n",
              "  <svg xmlns=\"http://www.w3.org/2000/svg\" height=\"24px\" viewBox=\"0 -960 960 960\">\n",
              "    <path d=\"M120-120v-720h720v720H120Zm60-500h600v-160H180v160Zm220 220h160v-160H400v160Zm0 220h160v-160H400v160ZM180-400h160v-160H180v160Zm440 0h160v-160H620v160ZM180-180h160v-160H180v160Zm440 0h160v-160H620v160Z\"/>\n",
              "  </svg>\n",
              "    </button>\n",
              "\n",
              "  <style>\n",
              "    .colab-df-container {\n",
              "      display:flex;\n",
              "      gap: 12px;\n",
              "    }\n",
              "\n",
              "    .colab-df-convert {\n",
              "      background-color: #E8F0FE;\n",
              "      border: none;\n",
              "      border-radius: 50%;\n",
              "      cursor: pointer;\n",
              "      display: none;\n",
              "      fill: #1967D2;\n",
              "      height: 32px;\n",
              "      padding: 0 0 0 0;\n",
              "      width: 32px;\n",
              "    }\n",
              "\n",
              "    .colab-df-convert:hover {\n",
              "      background-color: #E2EBFA;\n",
              "      box-shadow: 0px 1px 2px rgba(60, 64, 67, 0.3), 0px 1px 3px 1px rgba(60, 64, 67, 0.15);\n",
              "      fill: #174EA6;\n",
              "    }\n",
              "\n",
              "    .colab-df-buttons div {\n",
              "      margin-bottom: 4px;\n",
              "    }\n",
              "\n",
              "    [theme=dark] .colab-df-convert {\n",
              "      background-color: #3B4455;\n",
              "      fill: #D2E3FC;\n",
              "    }\n",
              "\n",
              "    [theme=dark] .colab-df-convert:hover {\n",
              "      background-color: #434B5C;\n",
              "      box-shadow: 0px 1px 3px 1px rgba(0, 0, 0, 0.15);\n",
              "      filter: drop-shadow(0px 1px 2px rgba(0, 0, 0, 0.3));\n",
              "      fill: #FFFFFF;\n",
              "    }\n",
              "  </style>\n",
              "\n",
              "    <script>\n",
              "      const buttonEl =\n",
              "        document.querySelector('#df-90ccb699-200a-47e9-a320-0fe687bab570 button.colab-df-convert');\n",
              "      buttonEl.style.display =\n",
              "        google.colab.kernel.accessAllowed ? 'block' : 'none';\n",
              "\n",
              "      async function convertToInteractive(key) {\n",
              "        const element = document.querySelector('#df-90ccb699-200a-47e9-a320-0fe687bab570');\n",
              "        const dataTable =\n",
              "          await google.colab.kernel.invokeFunction('convertToInteractive',\n",
              "                                                    [key], {});\n",
              "        if (!dataTable) return;\n",
              "\n",
              "        const docLinkHtml = 'Like what you see? Visit the ' +\n",
              "          '<a target=\"_blank\" href=https://colab.research.google.com/notebooks/data_table.ipynb>data table notebook</a>'\n",
              "          + ' to learn more about interactive tables.';\n",
              "        element.innerHTML = '';\n",
              "        dataTable['output_type'] = 'display_data';\n",
              "        await google.colab.output.renderOutput(dataTable, element);\n",
              "        const docLink = document.createElement('div');\n",
              "        docLink.innerHTML = docLinkHtml;\n",
              "        element.appendChild(docLink);\n",
              "      }\n",
              "    </script>\n",
              "  </div>\n",
              "\n",
              "\n",
              "<div id=\"df-0550407d-0f2d-4a36-80db-2ed3717394e8\">\n",
              "  <button class=\"colab-df-quickchart\" onclick=\"quickchart('df-0550407d-0f2d-4a36-80db-2ed3717394e8')\"\n",
              "            title=\"Suggest charts\"\n",
              "            style=\"display:none;\">\n",
              "\n",
              "<svg xmlns=\"http://www.w3.org/2000/svg\" height=\"24px\"viewBox=\"0 0 24 24\"\n",
              "     width=\"24px\">\n",
              "    <g>\n",
              "        <path d=\"M19 3H5c-1.1 0-2 .9-2 2v14c0 1.1.9 2 2 2h14c1.1 0 2-.9 2-2V5c0-1.1-.9-2-2-2zM9 17H7v-7h2v7zm4 0h-2V7h2v10zm4 0h-2v-4h2v4z\"/>\n",
              "    </g>\n",
              "</svg>\n",
              "  </button>\n",
              "\n",
              "<style>\n",
              "  .colab-df-quickchart {\n",
              "      --bg-color: #E8F0FE;\n",
              "      --fill-color: #1967D2;\n",
              "      --hover-bg-color: #E2EBFA;\n",
              "      --hover-fill-color: #174EA6;\n",
              "      --disabled-fill-color: #AAA;\n",
              "      --disabled-bg-color: #DDD;\n",
              "  }\n",
              "\n",
              "  [theme=dark] .colab-df-quickchart {\n",
              "      --bg-color: #3B4455;\n",
              "      --fill-color: #D2E3FC;\n",
              "      --hover-bg-color: #434B5C;\n",
              "      --hover-fill-color: #FFFFFF;\n",
              "      --disabled-bg-color: #3B4455;\n",
              "      --disabled-fill-color: #666;\n",
              "  }\n",
              "\n",
              "  .colab-df-quickchart {\n",
              "    background-color: var(--bg-color);\n",
              "    border: none;\n",
              "    border-radius: 50%;\n",
              "    cursor: pointer;\n",
              "    display: none;\n",
              "    fill: var(--fill-color);\n",
              "    height: 32px;\n",
              "    padding: 0;\n",
              "    width: 32px;\n",
              "  }\n",
              "\n",
              "  .colab-df-quickchart:hover {\n",
              "    background-color: var(--hover-bg-color);\n",
              "    box-shadow: 0 1px 2px rgba(60, 64, 67, 0.3), 0 1px 3px 1px rgba(60, 64, 67, 0.15);\n",
              "    fill: var(--button-hover-fill-color);\n",
              "  }\n",
              "\n",
              "  .colab-df-quickchart-complete:disabled,\n",
              "  .colab-df-quickchart-complete:disabled:hover {\n",
              "    background-color: var(--disabled-bg-color);\n",
              "    fill: var(--disabled-fill-color);\n",
              "    box-shadow: none;\n",
              "  }\n",
              "\n",
              "  .colab-df-spinner {\n",
              "    border: 2px solid var(--fill-color);\n",
              "    border-color: transparent;\n",
              "    border-bottom-color: var(--fill-color);\n",
              "    animation:\n",
              "      spin 1s steps(1) infinite;\n",
              "  }\n",
              "\n",
              "  @keyframes spin {\n",
              "    0% {\n",
              "      border-color: transparent;\n",
              "      border-bottom-color: var(--fill-color);\n",
              "      border-left-color: var(--fill-color);\n",
              "    }\n",
              "    20% {\n",
              "      border-color: transparent;\n",
              "      border-left-color: var(--fill-color);\n",
              "      border-top-color: var(--fill-color);\n",
              "    }\n",
              "    30% {\n",
              "      border-color: transparent;\n",
              "      border-left-color: var(--fill-color);\n",
              "      border-top-color: var(--fill-color);\n",
              "      border-right-color: var(--fill-color);\n",
              "    }\n",
              "    40% {\n",
              "      border-color: transparent;\n",
              "      border-right-color: var(--fill-color);\n",
              "      border-top-color: var(--fill-color);\n",
              "    }\n",
              "    60% {\n",
              "      border-color: transparent;\n",
              "      border-right-color: var(--fill-color);\n",
              "    }\n",
              "    80% {\n",
              "      border-color: transparent;\n",
              "      border-right-color: var(--fill-color);\n",
              "      border-bottom-color: var(--fill-color);\n",
              "    }\n",
              "    90% {\n",
              "      border-color: transparent;\n",
              "      border-bottom-color: var(--fill-color);\n",
              "    }\n",
              "  }\n",
              "</style>\n",
              "\n",
              "  <script>\n",
              "    async function quickchart(key) {\n",
              "      const quickchartButtonEl =\n",
              "        document.querySelector('#' + key + ' button');\n",
              "      quickchartButtonEl.disabled = true;  // To prevent multiple clicks.\n",
              "      quickchartButtonEl.classList.add('colab-df-spinner');\n",
              "      try {\n",
              "        const charts = await google.colab.kernel.invokeFunction(\n",
              "            'suggestCharts', [key], {});\n",
              "      } catch (error) {\n",
              "        console.error('Error during call to suggestCharts:', error);\n",
              "      }\n",
              "      quickchartButtonEl.classList.remove('colab-df-spinner');\n",
              "      quickchartButtonEl.classList.add('colab-df-quickchart-complete');\n",
              "    }\n",
              "    (() => {\n",
              "      let quickchartButtonEl =\n",
              "        document.querySelector('#df-0550407d-0f2d-4a36-80db-2ed3717394e8 button');\n",
              "      quickchartButtonEl.style.display =\n",
              "        google.colab.kernel.accessAllowed ? 'block' : 'none';\n",
              "    })();\n",
              "  </script>\n",
              "</div>\n",
              "\n",
              "    </div>\n",
              "  </div>\n"
            ],
            "application/vnd.google.colaboratory.intrinsic+json": {
              "type": "dataframe",
              "variable_name": "observations",
              "summary": "{\n  \"name\": \"observations\",\n  \"rows\": 5042,\n  \"fields\": [\n    {\n      \"column\": \"Date\",\n      \"properties\": {\n        \"dtype\": \"object\",\n        \"num_unique_values\": 5042,\n        \"samples\": [\n          \"2022-01-10\",\n          \"2010-01-07\",\n          \"2006-07-25\"\n        ],\n        \"semantic_type\": \"\",\n        \"description\": \"\"\n      }\n    },\n    {\n      \"column\": \"Cluster\",\n      \"properties\": {\n        \"dtype\": \"number\",\n        \"std\": 1,\n        \"min\": 0,\n        \"max\": 4,\n        \"num_unique_values\": 5,\n        \"samples\": [\n          4,\n          3,\n          2\n        ],\n        \"semantic_type\": \"\",\n        \"description\": \"\"\n      }\n    }\n  ]\n}"
            }
          },
          "metadata": {},
          "execution_count": 4
        }
      ]
    },
    {
      "cell_type": "markdown",
      "source": [
        "#### Frequência relativa de cada cluster no dataset"
      ],
      "metadata": {
        "id": "931PRubmp8_k"
      }
    },
    {
      "cell_type": "code",
      "source": [
        "# Count the occurrences of each cluster\n",
        "cluster_counts = df['Cluster'].value_counts()\n",
        "\n",
        "# Calculate the relative frequency\n",
        "relative_frequency = cluster_counts / len(df)\n",
        "\n",
        "# Print the results\n",
        "print(\"Cluster Counts:\\n\", cluster_counts)\n",
        "print(\"\\nRelative Frequency:\\n\", relative_frequency)"
      ],
      "metadata": {
        "colab": {
          "base_uri": "https://localhost:8080/"
        },
        "outputId": "0c15e5ac-9c6b-43af-f41d-6669d95cdc81",
        "id": "mQeLDUBAp8_k"
      },
      "execution_count": 5,
      "outputs": [
        {
          "output_type": "stream",
          "name": "stdout",
          "text": [
            "Cluster Counts:\n",
            " Cluster\n",
            "0    4065\n",
            "2     400\n",
            "4     350\n",
            "1     224\n",
            "3       3\n",
            "Name: count, dtype: int64\n",
            "\n",
            "Relative Frequency:\n",
            " Cluster\n",
            "0    0.806228\n",
            "2    0.079334\n",
            "4    0.069417\n",
            "1    0.044427\n",
            "3    0.000595\n",
            "Name: count, dtype: float64\n"
          ]
        }
      ]
    },
    {
      "cell_type": "markdown",
      "source": [
        "## 2. Configuração dos Estados Ocultos"
      ],
      "metadata": {
        "id": "lBfM3oRJp8_k"
      }
    },
    {
      "cell_type": "markdown",
      "source": [
        "Estados ocultos definidos:\n",
        "- Alta.\n",
        "\n",
        "- Neutro.\n",
        "\n",
        "- Baixa."
      ],
      "metadata": {
        "id": "aq99gGkop8_k"
      }
    },
    {
      "cell_type": "code",
      "source": [
        "# Definir estados ocultos (Alta, Baixa, Neutra)\n",
        "hidden_states = ['Alta', 'Baixa', 'Neutra']\n",
        "num_hidden_states = len(hidden_states)"
      ],
      "metadata": {
        "id": "4gcb8LJYqsxP"
      },
      "execution_count": 6,
      "outputs": []
    },
    {
      "cell_type": "markdown",
      "source": [
        "## Pré-tratamento dos dados"
      ],
      "metadata": {
        "id": "RTwCprECp8_l"
      }
    },
    {
      "cell_type": "code",
      "source": [
        "df['Cluster'] = pd.to_numeric(df['Cluster'], errors='coerce')\n",
        "print(df['Cluster'].isna().sum())  # Número de NaNs na coluna 'Cluster'\n",
        "print(np.isinf(df['Cluster']).sum())  # Número de valores infinitos na coluna 'Cluster'\n",
        "df = df.dropna(subset=['Cluster'])  # Remove linhas com NaN"
      ],
      "metadata": {
        "colab": {
          "base_uri": "https://localhost:8080/"
        },
        "outputId": "dffc1e3f-6e05-45ab-838c-37b04704137f",
        "id": "Vs__AxJGp8_l"
      },
      "execution_count": 7,
      "outputs": [
        {
          "output_type": "stream",
          "name": "stdout",
          "text": [
            "0\n",
            "0\n"
          ]
        }
      ]
    },
    {
      "cell_type": "markdown",
      "source": [
        "## 3. Inicialização dos Parâmetros\n"
      ],
      "metadata": {
        "id": "-5IhSeQPp8_l"
      }
    },
    {
      "cell_type": "markdown",
      "source": [
        "- Matriz de transição (A):\n",
        "\n",
        "  Se tiver ideia prévia de como os estados podem transitar (por exemplo, tendência de permanecer em alta ou de mudar para baixa), forneça essas suposições. Caso contrário, podemos assumir uma matriz uniforme para iniciar o processo.\n",
        "\n",
        "- Matriz de emissões (B):\n",
        "  Se houver alguma relação conhecida entre estados ocultos e clusters, indique.\n",
        "\n",
        "- Distribuição inicial (𝜋):\n",
        "  Alguma estimativa sobre os estados iniciais. Por exemplo, acredita que o mercado começa frequentemente em alta?"
      ],
      "metadata": {
        "id": "O1j6vXiCp8_l"
      }
    },
    {
      "cell_type": "code",
      "source": [
        "# Verificar os clusters únicos e ordenar por índice\n",
        "unique_clusters = sorted(observations['Cluster'].unique())\n",
        "num_clusters = len(unique_clusters)\n",
        "\n",
        "# Inicializar matrizes\n",
        "A = np.zeros((num_hidden_states, num_hidden_states))  # Matriz de transição\n",
        "B = np.zeros((num_hidden_states, num_clusters))       # Matriz de emissão\n",
        "pi = np.zeros(num_hidden_states)                     # Distribuição inicial"
      ],
      "metadata": {
        "id": "agnppHlsp8_l"
      },
      "execution_count": 8,
      "outputs": []
    },
    {
      "cell_type": "markdown",
      "source": [
        "### 4. Cálculo da matriz de transição (A)"
      ],
      "metadata": {
        "id": "aoD35nPlp8_l"
      }
    },
    {
      "cell_type": "code",
      "source": [
        "# Para este exemplo, vamos criar uma sequência fictícia de estados ocultos correspondente ao seu dataset.\n",
        "# No mundo real, isso seria aprendido com o algoritmo Baum-Welch.\n",
        "\n",
        "# Simular estados ocultos para cada cluster (use regras ou análises para ajustar isso)\n",
        "# Exemplo fictício: estados alternados com base nos clusters\n",
        "observations['hidden_states'] = np.random.choice(hidden_states, len(observations), replace=True)\n",
        "\n",
        "# Calcular transições entre estados ocultos\n",
        "for (s1, s2) in zip(observations['hidden_states'][:-1], observations['hidden_states'][1:]):\n",
        "    idx_s1 = hidden_states.index(s1)\n",
        "    idx_s2 = hidden_states.index(s2)\n",
        "    A[idx_s1, idx_s2] += 1\n",
        "\n",
        "# Normalizar para obter probabilidades\n",
        "A = A / A.sum(axis=1, keepdims=True)"
      ],
      "metadata": {
        "id": "TAC9Xshfp8_l"
      },
      "execution_count": 9,
      "outputs": []
    },
    {
      "cell_type": "markdown",
      "source": [
        "### 5. Cálculo da matriz de emissões (B)"
      ],
      "metadata": {
        "id": "1ptwGOeJp8_m"
      }
    },
    {
      "cell_type": "code",
      "source": [
        "# Calcular as emissões (frequência relativa de clusters dados os estados ocultos)\n",
        "for state, cluster in zip(observations['hidden_states'], observations['Cluster']):\n",
        "    state_idx = hidden_states.index(state)\n",
        "    cluster_idx = unique_clusters.index(cluster)\n",
        "    B[state_idx, cluster_idx] += 1\n",
        "\n",
        "# Normalizar para obter probabilidades\n",
        "B = B / B.sum(axis=1, keepdims=True)"
      ],
      "metadata": {
        "id": "ftuflltup8_m"
      },
      "execution_count": 10,
      "outputs": []
    },
    {
      "cell_type": "markdown",
      "source": [
        "### 6. Distribuição inicial (pi)"
      ],
      "metadata": {
        "id": "0k4VrbTjrNeh"
      }
    },
    {
      "cell_type": "code",
      "source": [
        "# Contar o primeiro estado oculto em cada dia e calcular a frequência relativa\n",
        "first_states = observations.groupby('Date')['hidden_states'].first().values\n",
        "for state in first_states:\n",
        "    state_idx = hidden_states.index(state)\n",
        "    pi[state_idx] += 1\n",
        "\n",
        "# Normalizar para obter probabilidades\n",
        "pi = pi / pi.sum()"
      ],
      "metadata": {
        "id": "4pLj5CEKp8_m"
      },
      "execution_count": 11,
      "outputs": []
    },
    {
      "cell_type": "markdown",
      "source": [
        "### 7. Exibir resultados"
      ],
      "metadata": {
        "id": "Z2mbqrdurboN"
      }
    },
    {
      "cell_type": "code",
      "source": [
        "# --- Exibir resultados ---\n",
        "print(\"Matriz de Transição (A):\")\n",
        "print(A)\n",
        "\n",
        "print(\"\\nMatriz de Emissão (B):\")\n",
        "print(B)\n",
        "\n",
        "print(\"\\nDistribuição Inicial (pi):\")\n",
        "print(pi)"
      ],
      "metadata": {
        "colab": {
          "base_uri": "https://localhost:8080/"
        },
        "id": "h_LxFbszrb3c",
        "outputId": "6e1a400c-c134-4d2f-b906-c1e20df27b79"
      },
      "execution_count": 12,
      "outputs": [
        {
          "output_type": "stream",
          "name": "stdout",
          "text": [
            "Matriz de Transição (A):\n",
            "[[0.32002384 0.33730632 0.34266985]\n",
            " [0.32595694 0.33911483 0.33492823]\n",
            " [0.35245417 0.31933767 0.32820816]]\n",
            "\n",
            "Matriz de Emissão (B):\n",
            "[[8.00953516e-01 3.69487485e-02 8.82002384e-02 5.95947557e-04\n",
            "  7.33015495e-02]\n",
            " [8.11117753e-01 4.96114764e-02 7.23251644e-02 5.97728631e-04\n",
            "  6.63478781e-02]\n",
            " [8.06623300e-01 4.67179184e-02 7.74689533e-02 5.91366056e-04\n",
            "  6.85984624e-02]]\n",
            "\n",
            "Distribuição Inicial (pi):\n",
            "[0.33280444 0.33181277 0.33538278]\n"
          ]
        }
      ]
    }
  ]
}